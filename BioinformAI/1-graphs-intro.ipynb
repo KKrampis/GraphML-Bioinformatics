{
 "cells": [
  {
   "cell_type": "markdown",
   "metadata": {},
   "source": [
    "### Graph Theory and Network analysis in Bioinformatics\n",
    "\n",
    "* In this lecture we will discuss basic Graph and Network Theory concepts and data structures\n",
    "* Graphs or otherwise networks are one of the most common ways to represent bioinformatics data \n",
    "  * Interaction between genes and proteins (genetic regulation) can be represented as graphs\n",
    "  * Protein structures can also be respensented as graphs denoting the chemical connections between atoms\n",
    "  * Beyond molecular biology, interacting species for example can be represented as graphs in ecology\n",
    "\n",
    "Some of the information we cover today can also be found in this [wiki article](https://en.wikipedia.org/wiki/Biological_network) \n",
    "and this [online course](https://www.ebi.ac.uk/training/online/courses/network-analysis-of-protein-interaction-data-an-introduction/network-analysis-in-biology/)\n",
    "\n",
    "---\n",
    "\n",
    "### What is a Graph\n",
    "\n",
    "* A mathematical structure capturing binary relationships between objects called *nodes* or *vertices*\n",
    "* The binary relationships are represented by links or *edges* between the *vertices*\n",
    "* The *edges* can be of a specific type : *directed or undirected, weighted or not*\n",
    "* Both *nodes* and *edges* can have attributes attached to them\n",
    "\n",
    "---\n",
    "\n",
    "### An example of a biological graph is shown in the image below (credit [Hennah, Porteus](http://www.plosone.org/article/info%3Adoi%2F10.1371%2Fjournal.pone.0004906) CC BY 2.5 Licence)\n",
    "\n",
    "![width:800px](https://upload.wikimedia.org/wikipedia/commons/7/72/Network_of_how_100_of_the_528_genes_identified_with_significant_differential_expression_relate_to_DISC1_and_its_core_interactors.png)\n",
    "\n",
    "The different shapes of the nodes represent different attributes, the edges here are unweighted\n",
    "\n",
    "---\n",
    "\n",
    "### Example graphs in bioinformatics : Protein-protein interaction (PPI) networks\n",
    "\n",
    "* Protein-protein interaction networks (PINs) represent the physical relationship among proteins present in a cell\n",
    "* Proteins are nodes, and their interactions are undirected edges\n",
    "* Protein–protein interactions are essential to the cellular processes and well studied networks in biology\n",
    "* Proteins with high degrees of connectedness (nodes with many links) are more likely to be essential for survival of the cell\n",
    "* Source of this information and additional reading at this [wiki article](https://en.wikipedia.org/wiki/Biological_network)\n",
    "\n",
    "---\n",
    "\n",
    "### Let's create a graph in Python\n",
    "\n",
    "*On Google Collab, run first \"!pip install matplotlib\"  and \"!pip install networkx\" (without the quotes)*"
   ]
  },
  {
   "cell_type": "code",
   "execution_count": null,
   "metadata": {},
   "outputs": [],
   "source": [
    "import networkx as nx\n",
    "import matplotlib.pyplot\n",
    "\n",
    "G = nx.Graph()\n",
    "G.add_node(1)\n",
    "G.add_nodes_from([2, 3])"
   ]
  },
  {
   "cell_type": "markdown",
   "metadata": {},
   "source": [
    "* We will use a Python library called [NetworkX](https://networkx.org/documentation/stable/tutorial.html)\n",
    "* First we create an *undirected* graph, meaning it does not matter which direction we travel along the edges"
   ]
  },
  {
   "cell_type": "markdown",
   "metadata": {},
   "source": [
    "---\n",
    "\n",
    "### We only have nodes (vertices) 1,2,3 let's connect them with edges"
   ]
  },
  {
   "cell_type": "code",
   "execution_count": null,
   "metadata": {},
   "outputs": [],
   "source": [
    "G.add_edge(1, 2, color='r',weight=2)\n",
    "\n",
    "e = (2, 3) #another way to add an edge\n",
    "G.add_edge(*e)  \n",
    "\n",
    "G.add_nodes_from([4, 5]) #add two more vertices\n",
    "G.add_edges_from([(3, 4), (3, 5)]) #add edges differently\n",
    "\n",
    "nx.draw(G, with_labels=True, font_weight='bold') #labels used are node numbers "
   ]
  },
  {
   "cell_type": "markdown",
   "metadata": {},
   "source": [
    "---\n",
    "\n",
    "### Let us add nodes with attributes"
   ]
  },
  {
   "cell_type": "code",
   "execution_count": null,
   "metadata": {
    "lines_to_next_cell": 0
   },
   "outputs": [],
   "source": [
    "G.add_node(6, molecule=\"protein\") #now we also have vertex attribute\n",
    "G.add_nodes_from([7,8,9], molecule=\"rna\") #add a bunch of RNA vertices\n",
    "G.nodes[1][\"molecule\"] = \"protein\"  #modify attributes of existing vertex\n",
    "G.add_edges_from([(5,6),(5,7),(7,8),(8,9)])#connect these to the graph\n",
    "\n",
    "labels = nx.get_node_attributes(G, 'molecule') #using custom labels for nodes\n",
    "nx.draw(G, labels=labels, font_weight='bold') \n"
   ]
  },
  {
   "cell_type": "markdown",
   "metadata": {},
   "source": [
    "---\n",
    "\n",
    "Full documentation in NetworkX [tutorial](https://networkx.org/documentation/stable/tutorial.html)\n",
    "and [NetworkX reference](https://networkx.org/documentation/stable/reference/classes/index.html)\n",
    "\n",
    "---\n",
    "\n",
    "### Graphs for complex bioinformatics data\n",
    "\n",
    "![](https://www.ebi.ac.uk/training/online/courses/network-analysis-of-protein-interaction-data-an-introduction/wp-content/uploads/sites/64/2020/08/new-fig-3.png)\n",
    "### (credit [European Bioinformatics Institute](https://www.ebi.ac.uk/training/online/courses/network-analysis-of-protein-interaction-data-an-introduction/introduction-to-graph-theory/graph-theory-graph-types-and-edge-properties/) CC BY 2.5 Licence)\n",
    "\n",
    "---\n",
    "\n",
    "### Data structures for graphs data\n",
    "\n",
    "![](https://www.ebi.ac.uk/training/online/courses/network-analysis-of-protein-interaction-data-an-introduction/wp-content/uploads/sites/64/2020/08/new-fig-4.png)\n",
    "### (credit [European Bioinformatics Institute](https://www.ebi.ac.uk/training/online/courses/network-analysis-of-protein-interaction-data-an-introduction/introduction-to-graph-theory/graph-theory-graph-types-and-edge-properties/) CC BY 2.5 Licence)\n",
    "\n",
    "---\n",
    "\n",
    "### Let's see this in Python code "
   ]
  },
  {
   "cell_type": "code",
   "execution_count": null,
   "metadata": {
    "lines_to_next_cell": 2
   },
   "outputs": [],
   "source": [
    "\n",
    "G1 = nx.DiGraph() #now we have a directed graph\n",
    "G1.add_edges_from([(1,2), (2,3), (3, 4), (3, 5)]) #this adds nodes and edges \n"
   ]
  },
  {
   "cell_type": "markdown",
   "metadata": {},
   "source": [
    "---\n",
    "\n",
    "### "
   ]
  },
  {
   "cell_type": "code",
   "execution_count": null,
   "metadata": {
    "lines_to_next_cell": 0
   },
   "outputs": [],
   "source": []
  },
  {
   "cell_type": "markdown",
   "metadata": {},
   "source": [
    "---"
   ]
  }
 ],
 "metadata": {
  "kernelspec": {
   "display_name": "Python 3 (ipykernel)",
   "language": "python",
   "name": "python3"
  },
  "language_info": {
   "codemirror_mode": {
    "name": "ipython",
    "version": 3
   },
   "file_extension": ".py",
   "mimetype": "text/x-python",
   "name": "python",
   "nbconvert_exporter": "python",
   "pygments_lexer": "ipython3",
   "version": "3.9.7"
  }
 },
 "nbformat": 4,
 "nbformat_minor": 5
}
