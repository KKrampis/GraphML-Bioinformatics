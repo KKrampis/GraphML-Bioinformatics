{
 "cells": [
  {
   "cell_type": "markdown",
   "metadata": {},
   "source": [
    "### One-hot encoding of protein annotations\n",
    "\n",
    "![](https://i.ibb.co/ZSs4NGz/Screenshot-2022-02-19-7-38-54-PM.png)\n",
    "\n",
    "* Annotations with 5 words, the dictionary provides index for matching the 1's with the set of words\n",
    "* Tensor: 3-dimensional matrix, (annotation length) x (size of word set) x (number of annotations) \n",
    "\n",
    "---\n",
    "### And now onwards to first building the index for the words"
   ]
  },
  {
   "cell_type": "code",
   "execution_count": null,
   "metadata": {},
   "outputs": [],
   "source": [
    "\n",
    "import numpy as np\n",
    "import gensim\n",
    "from gensim import corpora\n",
    "\n",
    "annotations = ['This protein phosporylates a gene','This protein catalyzes a reaction', \\\n",
    "'This gene controls RNA expression', 'This gene controls a gene']\n",
    "\n",
    "annotwords = [[word for word in annotation.split()] for annotation in annotations]\n",
    "annotdict = corpora.Dictionary(annotwords)\n",
    "annotensor = np.zeros(shape = (len(annotations), len(annotations[0].split(' ')), max(annotdict.token2id.values()) + 1))  \n",
    "\n",
    "for i, annotation in enumerate(annotations): \n",
    "  for j, word in list(enumerate(annotation.split())):\n",
    "    \n",
    "    index = annotdict.token2id.get(word)\n",
    "    annotensor[i, j, index] = 1.   \n",
    "\n",
    "print(annotwords,\"\\n\");print(annotdict.token2id,\"\\n\");print(annotensor)"
   ]
  },
  {
   "cell_type": "markdown",
   "metadata": {},
   "source": [
    "---\n",
    "\n",
    "### Graph Convolutional Networks\n",
    "\n",
    "* Graph Convolutional Networks - GCNs, a type of Artificial Neural Networks \n",
    "* We will utilize vectorized, one-hot encoded annotation data on each node on our graphs\n",
    "* Matrix multiplication is row to column, (k,l) x (l,m) = (k,m) inner dimensions must match\n",
    "![width:600](https://miro.medium.com/max/1400/1*YGcMQSr0ge_DGn96WnEkZw.png)\n",
    "\n",
    "---\n",
    "\n",
    "### Tensor operations with numpy.array"
   ]
  },
  {
   "cell_type": "code",
   "execution_count": null,
   "metadata": {
    "lines_to_next_cell": 0
   },
   "outputs": [],
   "source": [
    "sliceanot = np.sum(annotensor,axis=1)\n",
    "print(sliceanot,\"\\n\")\n",
    "print(sliceanot[0:4, 0:5],\"\\n\")\n",
    "\n",
    "anot = np.sum(sliceanot[0:4, 0:5],axis=1)\n",
    "anotvec = np.reshape(anot,[4,1])\n",
    "\n",
    "print(anotvec,\"\\n\")"
   ]
  },
  {
   "cell_type": "markdown",
   "metadata": {},
   "source": [
    "![](https://i.ibb.co/ZSs4NGz/Screenshot-2022-02-19-7-38-54-PM.png)\n",
    "\n",
    "---\n",
    "\n",
    "### A graph with the compressed annotations as node attributes"
   ]
  },
  {
   "cell_type": "code",
   "execution_count": null,
   "metadata": {
    "lines_to_next_cell": 0
   },
   "outputs": [],
   "source": [
    "import networkx as nx\n",
    "\n",
    "A = np.matrix([\n",
    "    [0, 1, 0, 0, 0],\n",
    "    [0, 0, 0, 1, 0], \n",
    "    [0, 1, 0, 0, 1],\n",
    "    [1, 0, 1, 0, 0],\n",
    "    [1, 1, 0, 0, 0]],\n",
    "    dtype=float)\n",
    "\n",
    "G = nx.convert_matrix.from_numpy_matrix(A,create_using=nx.DiGraph)\n",
    "\n",
    "# I have added on extra node that is not annotated, preventing index error\n",
    "anotvec = np.append(anotvec, 0)\n",
    "anotvec = np.reshape(anotvec,[5,1])\n",
    "\n",
    "for i in G.nodes:\n",
    "  G.nodes[i][\"annotval\"] = (int(anotvec[i]),'ID=' + str(i))\n",
    "    \n",
    "labels = nx.get_node_attributes(G, 'annotval') \n",
    "nx.draw_shell(G, arrows=True, labels=labels)"
   ]
  },
  {
   "cell_type": "markdown",
   "metadata": {},
   "source": [
    "---\n",
    "\n",
    "### Update node attributes based on neighboors\n"
   ]
  },
  {
   "cell_type": "code",
   "execution_count": null,
   "metadata": {
    "lines_to_next_cell": 0
   },
   "outputs": [],
   "source": [
    "X = anotvec\n",
    "print(A,\"\\n\")\n",
    "print(X,\"\\n\")\n",
    "\n",
    "anotprop = A * X\n",
    "print(anotprop,\"\\n\")\n",
    "\n",
    "for i in G.nodes:\n",
    "  G.nodes[i][\"annotval\"] = (int(anotprop[i]),'ID=' + str(i))\n",
    "\n",
    "labels = nx.get_node_attributes(G, 'annotval') \n",
    "nx.draw_shell(G, arrows=True, labels=labels)"
   ]
  },
  {
   "cell_type": "markdown",
   "metadata": {},
   "source": [
    "* Remember the numbers represent \"codified\" annotations (although very simplified in our example)\n",
    "* Rename vector with the annotation numbers \"X\" to match tutorial we follow [here](https://towardsdatascience.com/how-to-do-deep-learning-on-graphs-with-graph-convolutional-networks-7d2250723780) and [here](https://towardsdatascience.com/understanding-graph-convolutional-networks-for-node-classification-a2bfdb7aba7b)  \n",
    "---\n",
    "\n",
    "### Adding self-loops"
   ]
  },
  {
   "cell_type": "code",
   "execution_count": null,
   "metadata": {},
   "outputs": [],
   "source": [
    "I = np.matrix(np.eye(A.shape[0]))\n",
    "print(I,\"\\n\")\n",
    "\n",
    "A1 = A + I\n",
    "print(A1,\"\\n\")\n",
    "\n",
    "anotvecself = A1 * X\n",
    "\n",
    "for i in G.nodes:\n",
    "\tG.nodes[i][\"annotval\"] = (int(anotvecself[i]),'ID=' + str(i))\n",
    "\n",
    "labels = nx.get_node_attributes(G, 'annotval') \n",
    "nx.draw_shell(G, labels=labels)"
   ]
  },
  {
   "cell_type": "markdown",
   "metadata": {},
   "source": [
    "* Add the identity matrix, we add self-loops in the graph, sum up also the annotation value of each node\n",
    "\n",
    "---\n",
    "\n",
    "### Normalizing for the number of edges per node"
   ]
  },
  {
   "cell_type": "code",
   "execution_count": null,
   "metadata": {},
   "outputs": [],
   "source": [
    "\n",
    "D = np.array(np.sum(A, axis=0))[0]\n",
    "D = np.matrix(np.diag(D))\n",
    "anotvecscaled = D**-1 * A1 * X\n",
    "\n",
    "print(D,\"\\n\");print(A,\"\\n\")\n",
    "print(\"D(5x5) * A1(5x5) * X(5x1) = annotvecscaled(5x1)\\n\")\n",
    "print(D**-1,\"\\n\");print(A1,\"\\n\");print(X,\"\\n\")\n",
    "print(anotvecscaled,\"\\n\")\n",
    "\n",
    "for i in G.nodes:\n",
    "\tG.nodes[i][\"annotval\"] = (int(anotvecscaled[i]),'ID=' + str(i))\n",
    "\n",
    "labels = nx.get_node_attributes(G, 'annotval') \n",
    "nx.draw_shell(G, labels=labels)"
   ]
  },
  {
   "cell_type": "markdown",
   "metadata": {},
   "source": [
    "* D sums the number of edges per node (the 1's in each column of the adjacency matrix A)\n",
    "* Inverse number of edges on diag(D), scales / normalizes annotation number assigned to each node during the matrix multiplication\n",
    "\n",
    "---\n",
    "### A step back to consider our algorithmic approach\n",
    "\n",
    "![](https://i.ibb.co/FKRHNBL/Screenshot-2022-03-07-12-13-28-PM.png)\n",
    "\n",
    "* The numbers represent \"annotations\", matrix manipulations to propagate these annotations along the graph structure\n",
    "* We are performing \"message passing\" in the graph so that we can annotate unknown nodes (the node with the \"0\")\n",
    "* We implemented (*almost*) the formula / algorithm shown below, and with [Spektral](https://graphneural.network/layers/convolution/#gcnconv) we can apply it to large-scale graphs\n",
    "* The formula shows symmetric multiplication (diag(D) on both sides), also with inverse square root (our scaling almost does that)\n",
    "* Spektral handles the true annotations, represented as one-hot encoded vectors (remember, computers can only understand numbers!)"
   ]
  }
 ],
 "metadata": {
  "kernelspec": {
   "display_name": "Python 3 (ipykernel)",
   "language": "python",
   "name": "python3"
  }
 },
 "nbformat": 4,
 "nbformat_minor": 2
}
