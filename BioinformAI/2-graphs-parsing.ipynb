{
 "cells": [
  {
   "cell_type": "markdown",
   "metadata": {},
   "source": [
    "### Graph theory and machine learning for bioinformatics continued"
   ]
  },
  {
   "cell_type": "markdown",
   "metadata": {},
   "source": [
    "* We used a Python library called [NetworkX](https://networkx.org/documentation/stable/tutorial.html)\n",
    "* Examined different types of graphs, directed, undirected, weighted etc.\n",
    "* Easy with sample data and few nodes, we will now learn to parse real datasets\n",
    "* We will also warm up with Python so we can move to more advanced coding subsequently\n",
    "\n",
    "---\n",
    "\n",
    "### Example biological Graph data sources for bioinformatics research\n",
    "\n",
    "* Biological General Repository for Interaction Datasets : [BioGrid](https://thebiogrid.org/) \n",
    "* European Bioinformatics Institute : [IntAct](https://www.ebi.ac.uk/intact/home) \n",
    "* Stanford Biomedical Network Dataset Collection : [SNAP](http://snap.stanford.edu/biodata/index.html) \n",
    "\n",
    "---\n",
    "\n",
    "### Biological Graph data formats\n",
    "\n",
    "A range of available formats from [BioGrid](https://wiki.thebiogrid.org/doku.php/downloads) \n",
    "The official specification of [PSI-MI TAB](https://psicquic.github.io/MITAB27Format.html) \n",
    "\n",
    "* Most intuitive is to use tab-delimited formats such as PSI-MI TAB\n",
    "* We prefer the latest version of PSI-MI TAB (or at least >2.6)\n",
    "* We can get the node annotations without additonal database referrals\n",
    "\n",
    "---"
   ]
  },
  {
   "cell_type": "markdown",
   "metadata": {},
   "source": [
    "### PSI-MI TAB in terminal \n",
    "\n",
    "![PSI-MI TAB 2.7 in terminal](https://i.ibb.co/WxywbSz/Screenshot-2022-02-07-7-47-42-PM.png) "
   ]
  },
  {
   "cell_type": "markdown",
   "metadata": {},
   "source": [
    "---\n",
    "\n",
    "### PSI-MI TAB in Excel "
   ]
  },
  {
   "cell_type": "markdown",
   "metadata": {},
   "source": [
    "![PSI-MI TAB 2.7 in Excel](https://i.ibb.co/D4jHKts/Screenshot-2022-02-07-8-31-41-PM.png) \n",
    "[.tsv file 1 parse with Python in Collab](https://easyupload.io/xnrb66) \n",
    "[.tsv file 2 parse with Python in Collab](https://easyupload.io/nfycv0) \n",
    "[.tsv file 3 parse with Python in Collab](https://easyupload.io/rs5b9m) \n",
    "\n",
    "---\n",
    "\n",
    "### Parsing PSI-MI TAB and creating a Graph with NetworkX \n",
    "\n",
    "* We will be using this [Collab Python notebook](https://colab.research.google.com/drive/1CQkYrIfRJFMRWmMR9MZ5W-yBj0QhxAMx?usp=sharing) \n",
    "* \"File->Save Copy\" the notebook under your Google account to edit or execute\n",
    "* Remember the upload and copy path buttons to use .tsv from within Collab ![](https://i.ibb.co/d0nHpLG/colab-download.png) \n",
    "* And also see this [video](https://www.youtube.com/watch?v=6HFlwqK3oeo)\n",
    "\n",
    "---\n",
    "\n",
    "### Some more Google Collab tricks\n",
    "\n",
    "* You can actually execute Unix commands, again see [Collab Python notebook](https://colab.research.google.com/drive/1CQkYrIfRJFMRWmMR9MZ5W-yBj0QhxAMx?usp=sharing) \n",
    "* Also refer to the [PSI-MI TAB fields](https://psicquic.github.io/MITAB27Format.html) \n",
    "* How many edges we have in total - can we tell before even using NetworkX ?"
   ]
  },
  {
   "cell_type": "code",
   "execution_count": null,
   "metadata": {},
   "outputs": [],
   "source": [
    "\n",
    "!cut -f 1-2,17-18 /content/18467557.tsv | head -n 4\n",
    "\n",
    "!cut -f 1-2,17-18 /content/18467557.tsv | sed -e 's/uniprotkb\\://g' > /content/network.tsv\n",
    "\n",
    "!wc -l network.tsv\n"
   ]
  },
  {
   "cell_type": "markdown",
   "metadata": {},
   "source": [
    "---\n",
    "### \n",
    "\n",
    "* Let's parse out the file and make a Graph with NetworkX\n",
    "* We open the file for reading each line 'for line in f'\n",
    "* The Python operations within the '[]' will generate a list with the results\n",
    "* We split each line based on tabs ('\\t') in a temporary array (the nested '[:2]')\n",
    "* From that nested array we get the first two elements 0,1 ([:2] the 2 not inclusive) and store in 'pairset' array"
   ]
  },
  {
   "cell_type": "code",
   "execution_count": null,
   "metadata": {},
   "outputs": [],
   "source": [
    "\n",
    "with open('/content/network.tsv', 'r') as f:\n",
    "\n",
    "  pairset = [line.rstrip().split('\\t')[:2] for line in f]\n",
    "\n",
    "pairset[0:4]\n"
   ]
  },
  {
   "cell_type": "markdown",
   "metadata": {},
   "source": [
    "---\n",
    "### Draw the graphs\n",
    "\n",
    "* Again do not forget the **'import network as nx'** etc. statements as needed in the beginning of your Collab code\n",
    "* Remember the G.add_edges_from([(3, 4), (3, 5)]) to add edges and nodes simultaneously\n",
    "* Why 'pairset[1:]' ? See also [Collab Python notebook](https://colab.research.google.com/drive/1CQkYrIfRJFMRWmMR9MZ5W-yBj0QhxAMx?usp=sharing) \n"
   ]
  },
  {
   "cell_type": "code",
   "execution_count": null,
   "metadata": {},
   "outputs": [],
   "source": [
    "\n",
    "G = nx.Graph()\n",
    "G.add_edges_from(pairset[1:])\n",
    "nx.draw(G, with_labels=True)\n",
    "rkx.algorithms.tournament.hamiltonian_path¶\n",
    "\n",
    "\n",
    "nodes = list(G.nodes)\n",
    "print(nodes[0:10])\n"
   ]
  },
  {
   "cell_type": "markdown",
   "metadata": {},
   "source": [
    "![](https://i.ibb.co/BtRHw5D/Screenshot-2022-02-08-3-07-57-PM.png)\n",
    "\n",
    "---\n",
    "### Example networks with the different .tsv files\n",
    "\n",
    "![](https://i.ibb.co/YRfxRkL/download-1.png) \n",
    "![](https://i.ibb.co/NjBLx1m/download.png) \n",
    "\n",
    "---\n",
    "### Connectivity of the Graph nodes\n",
    "\n",
    "* Number of edges per node, a  histogram in descending order\n",
    "* Note the special import of functions from networkx\n",
    "* No information for which node has the highest number of connections"
   ]
  },
  {
   "cell_type": "code",
   "execution_count": null,
   "metadata": {},
   "outputs": [],
   "source": [
    "from networkx.classes.function import info, degree_histogram\n",
    "\n",
    "print(info(G))\n",
    "\n",
    "deghist = degree_histogram(G)\n",
    "deghist.sort(reverse=True)\n",
    "print(deghist)\n"
   ]
  },
  {
   "cell_type": "markdown",
   "metadata": {},
   "source": [
    "---\n",
    "### Connectivity of the Graph nodes \n",
    "\n",
    "* This a normalized metric on how well connected a node is, [read definition here](https://towardsdatascience.com/graph-analytics-introduction-and-concepts-of-centrality-8f5543b55de3)\n",
    "* Here we see which node the number the node corresponds to, using dictionary key-value pairs\n",
    "* Notice the Python code for sorting the dictionary on its values"
   ]
  },
  {
   "cell_type": "code",
   "execution_count": null,
   "metadata": {},
   "outputs": [],
   "source": [
    "\n",
    "from networkx.algorithms.centrality import degree_centrality\n",
    "\n",
    "deg = degree_centrality(G)\n",
    "print(deg)\n",
    "\n",
    "sorted_deg = sorted( ( (value, key) for (key,value) in deg.items() ),key=None,reverse=True)\n",
    "print(sorted_deg)\n"
   ]
  },
  {
   "cell_type": "markdown",
   "metadata": {},
   "source": [
    "---\n",
    "### Some more connectivity metrics \n",
    "\n",
    "* This returns a dictionary with the first node id as key, and dictionaries as values\n",
    "* Each value dictionary, contains key-values with second node id and number of deletions for disconnect\n",
    "* [See defintion and all algorithms here](https://networkx.org/documentation/stable/reference/algorithms/generated/networkx.algorithms.connectivity.connectivity.all_pairs_node_connectivity.html) "
   ]
  },
  {
   "cell_type": "code",
   "execution_count": null,
   "metadata": {},
   "outputs": [],
   "source": [
    "from networkx.algorithms.approximation.connectivity import all_pairs_node_connectivity\n",
    "\n",
    "allpaircon = all_pairs_node_connectivity(G)\n",
    "print(allpaircon)\n"
   ]
  },
  {
   "cell_type": "markdown",
   "metadata": {},
   "source": [
    "---\n",
    "### Paths on the Graph\n",
    "\n",
    "* Path from one node to other, and cyclic paths formed between nodes\n",
    "* Note the 'casting' as list, because these methods return a 'generator'\n",
    "* Saves memory and instantiated as list when requested as in code below"
   ]
  },
  {
   "cell_type": "code",
   "execution_count": null,
   "metadata": {},
   "outputs": [],
   "source": [
    "\n",
    "from networkx.algorithms.simple_paths import all_simple_paths\n",
    "from networkx.algorithms.cycles import cycle_basis\n",
    "\n",
    "print(list(all_simple_paths(G, 'Q99836', 'Q9UGK3')))\n",
    "print(list(cycle_basis(G)))\n"
   ]
  },
  {
   "cell_type": "markdown",
   "metadata": {},
   "source": [
    "---\n",
    "### Algorithmic / formal paths on the Graph\n",
    "\n",
    "* [Hamiltonian path](https://en.wikipedia.org/wiki/Hamiltonian_path) visit each node exactly one time\n",
    "* [Eulerian path](https://en.wikipedia.org/wiki/Eulerian_path) visit each edge only once (you can revisit nodes)\n",
    "\n",
    "![height:12cm](https://i.ytimg.com/vi/CEOGcSCTar8/maxresdefault.jpg) \n",
    "\n",
    "[image credit and more information](https://www.youtube.com/watch?v=CEOGcSCTar8) \n",
    "\n",
    "---\n",
    "### Algorithmic paths on networkx  \n",
    "\n",
    "* Details in networkx documentation [here](https://networkx.org/documentation/stable/reference/algorithms/generated/networkx.algorithms.tournament.hamiltonian_path.html)\n",
    "* [and here](https://networkx.org/documentation/stable/reference/algorithms/generated/networkx.algorithms.euler.is_eulerian.html)"
   ]
  },
  {
   "cell_type": "code",
   "execution_count": null,
   "metadata": {},
   "outputs": [],
   "source": [
    "from networkx.algorithms.tournament import hamiltonian_path\n",
    "from networkx.algorithms.euler import is_eulerian\n",
    "\n",
    "print(is_eulerian(G))\n",
    "hamiltonian_path(G.to_directed())\n"
   ]
  },
  {
   "cell_type": "markdown",
   "metadata": {},
   "source": [
    "---\n",
    "### Bonus: adjacency matrices and easy loading from files\n",
    "\n",
    "* Print adjacency matrix of the graph\n",
    "* Read graph automatically from a two-column file"
   ]
  },
  {
   "cell_type": "code",
   "execution_count": null,
   "metadata": {},
   "outputs": [],
   "source": [
    "\n",
    "from networkx.linalg.graphmatrix import adjacency_matrix\n",
    "adjacency_matrix(G).toarray()\n",
    "\n",
    "from networkx.readwrite.adjlist import read_adjlist\n",
    "!cut -f 1-2 /content/16365431.tsv > /content/network.tsv\n",
    "G = read_adjlist('/content/network.tsv')\n",
    "nx.draw(G, with_labels=True)\n"
   ]
  },
  {
   "cell_type": "markdown",
   "metadata": {},
   "source": [
    "---\n",
    "### The documentation of functions and algorithms of networkx\n",
    "\n",
    "* [Functions](https://networkx.org/documentation/stable/reference/functions.html) \n",
    "* [Algorithms](https://networkx.org/documentation/stable/reference/algorithms/index.html) "
   ]
  },
  {
   "cell_type": "markdown",
   "metadata": {},
   "source": [
    "---"
   ]
  }
 ],
 "metadata": {
  "kernelspec": {
   "display_name": "Python 3 (ipykernel)",
   "language": "python",
   "name": "python3"
  }
 },
 "nbformat": 4,
 "nbformat_minor": 2
}
